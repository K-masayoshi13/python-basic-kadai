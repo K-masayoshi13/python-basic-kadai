{
  "nbformat": 4,
  "nbformat_minor": 0,
  "metadata": {
    "colab": {
      "provenance": [],
      "authorship_tag": "ABX9TyPnfgwDf+uMW19MJFMUFJIG",
      "include_colab_link": true
    },
    "kernelspec": {
      "name": "python3",
      "display_name": "Python 3"
    },
    "language_info": {
      "name": "python"
    }
  },
  "cells": [
    {
      "cell_type": "markdown",
      "metadata": {
        "id": "view-in-github",
        "colab_type": "text"
      },
      "source": [
        "<a href=\"https://colab.research.google.com/github/K-masayoshi13/python-basic-kadai/blob/main/kadai_013.ipynb\" target=\"_parent\"><img src=\"https://colab.research.google.com/assets/colab-badge.svg\" alt=\"Open In Colab\"/></a>"
      ]
    },
    {
      "cell_type": "code",
      "execution_count": 2,
      "metadata": {
        "colab": {
          "base_uri": "https://localhost:8080/"
        },
        "id": "K9luOvqBoqx-",
        "outputId": "eddc7a03-88a8-48af-be65-bffc57919383"
      },
      "outputs": [
        {
          "output_type": "stream",
          "name": "stdout",
          "text": [
            "Good Morning\n",
            "Did you sleep well last night?\n",
            "Let's do our best today too\n",
            "Good Evening\n",
            "Thank you for your hard work today\n"
          ]
        }
      ],
      "source": [
        "def say_gm():\n",
        "  print(\"Good Morning\")\n",
        "  print(\"Did you sleep well last night?\")\n",
        "  print(\"Let's do our best today too\")\n",
        "\n",
        "def say_ge():\n",
        "  print(\"Good Evening\")\n",
        "  print(\"Thank you for your hard work today\")\n",
        "\n",
        "say_gm()\n",
        "say_ge()"
      ]
    },
    {
      "cell_type": "code",
      "source": [
        "say_gm=[\"Good Morning\",\"Good Afternoon\",\"Good Evening\"]\n",
        "for i in range(3):\n",
        "  print(say_gm[i])"
      ],
      "metadata": {
        "colab": {
          "base_uri": "https://localhost:8080/"
        },
        "id": "5OUyqE9eqocP",
        "outputId": "7ab31cdd-abfc-4290-879f-bd8193825b6a"
      },
      "execution_count": 6,
      "outputs": [
        {
          "output_type": "stream",
          "name": "stdout",
          "text": [
            "Good Morning\n",
            "Good Afternoon\n",
            "Good Evening\n"
          ]
        }
      ]
    },
    {
      "cell_type": "code",
      "source": [
        "def calculate_total(price):\n",
        "  total=price+500\n",
        "  print(f\"{total}yen\")\n",
        "\n",
        "calculate_total(1200)"
      ],
      "metadata": {
        "colab": {
          "base_uri": "https://localhost:8080/"
        },
        "id": "Ta9gyoMRrvuI",
        "outputId": "6b9bf16b-9985-4595-f7ef-d56ae120c3c1"
      },
      "execution_count": 10,
      "outputs": [
        {
          "output_type": "stream",
          "name": "stdout",
          "text": [
            "1700yen\n"
          ]
        }
      ]
    },
    {
      "cell_type": "code",
      "source": [
        "purchased=True\n",
        "\n",
        "if purchased==True:\n",
        "  print(\"thank you for your purchase\")\n",
        "else:\n",
        "  print(\"please come back again\")"
      ],
      "metadata": {
        "colab": {
          "base_uri": "https://localhost:8080/"
        },
        "id": "DSd0AwB_tzZm",
        "outputId": "513958a1-6c3a-42f9-e969-3d571287f3a1"
      },
      "execution_count": 12,
      "outputs": [
        {
          "output_type": "stream",
          "name": "stdout",
          "text": [
            "thank you for your purchase\n"
          ]
        }
      ]
    },
    {
      "cell_type": "code",
      "source": [
        "def double(num):\n",
        "  return num*2\n",
        "\n",
        "double(enjoy)"
      ],
      "metadata": {
        "colab": {
          "base_uri": "https://localhost:8080/",
          "height": 182
        },
        "id": "WztDkZJpvOqN",
        "outputId": "69045996-2ee3-4056-a180-5f48d7c79eca"
      },
      "execution_count": 14,
      "outputs": [
        {
          "output_type": "error",
          "ename": "NameError",
          "evalue": "name 'enjoy' is not defined",
          "traceback": [
            "\u001b[0;31m---------------------------------------------------------------------------\u001b[0m",
            "\u001b[0;31mNameError\u001b[0m                                 Traceback (most recent call last)",
            "\u001b[0;32m/tmp/ipython-input-4291927765.py\u001b[0m in \u001b[0;36m<cell line: 0>\u001b[0;34m()\u001b[0m\n\u001b[1;32m      2\u001b[0m   \u001b[0;32mreturn\u001b[0m \u001b[0mnum\u001b[0m\u001b[0;34m*\u001b[0m\u001b[0;36m2\u001b[0m\u001b[0;34m\u001b[0m\u001b[0;34m\u001b[0m\u001b[0m\n\u001b[1;32m      3\u001b[0m \u001b[0;34m\u001b[0m\u001b[0m\n\u001b[0;32m----> 4\u001b[0;31m \u001b[0mdouble\u001b[0m\u001b[0;34m(\u001b[0m\u001b[0menjoy\u001b[0m\u001b[0;34m)\u001b[0m\u001b[0;34m\u001b[0m\u001b[0;34m\u001b[0m\u001b[0m\n\u001b[0m",
            "\u001b[0;31mNameError\u001b[0m: name 'enjoy' is not defined"
          ]
        }
      ]
    },
    {
      "cell_type": "code",
      "source": [
        "import random\n",
        "\n",
        "user_names = [\"Alice\", \"Bob\", \"Charlie\",\"\"]\n",
        "\n",
        "def greet_user(user_name):\n",
        "    if user_name == \"\":\n",
        "        print(\"こんにちは、guestさん！\")\n",
        "    else:\n",
        "        print(f\"こんにちは、{greet_user}さん！\")\n",
        "\n",
        "# ランダムに選んだ名前で挨拶\n",
        "greet_user(random.choice(user_names))\n",
        "\n",
        "\n"
      ],
      "metadata": {
        "colab": {
          "base_uri": "https://localhost:8080/"
        },
        "id": "UmczWRaWv1Mo",
        "outputId": "9309ef57-d785-4726-8504-7b9ffa0caa44"
      },
      "execution_count": 46,
      "outputs": [
        {
          "output_type": "stream",
          "name": "stdout",
          "text": [
            "こんにちは、<function greet_user at 0x79ac59308900>さん！\n"
          ]
        }
      ]
    },
    {
      "cell_type": "code",
      "source": [
        "def calculate_price(price:float,tax:float)->float:\n",
        "  return price+(price*tax/100)\n",
        "\n",
        "calculate_price(110,10)"
      ],
      "metadata": {
        "colab": {
          "base_uri": "https://localhost:8080/"
        },
        "id": "5j5j3UBI6nAR",
        "outputId": "de75f640-39c1-4d3c-d098-d66476bd29cc"
      },
      "execution_count": 47,
      "outputs": [
        {
          "output_type": "execute_result",
          "data": {
            "text/plain": [
              "121.0"
            ]
          },
          "metadata": {},
          "execution_count": 47
        }
      ]
    }
  ]
}