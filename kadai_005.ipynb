{
  "nbformat": 4,
  "nbformat_minor": 0,
  "metadata": {
    "colab": {
      "provenance": []
    },
    "kernelspec": {
      "name": "python3",
      "display_name": "Python 3"
    },
    "language_info": {
      "name": "python"
    }
  },
  "cells": [
    {
      "cell_type": "code",
      "execution_count": 4,
      "metadata": {
        "colab": {
          "base_uri": "https://localhost:8080/"
        },
        "id": "OZY0aUPQU_OT",
        "outputId": "429d98b3-c9f6-4a56-fb55-1e977f67fd9a"
      },
      "outputs": [
        {
          "output_type": "stream",
          "name": "stdout",
          "text": [
            "16\n"
          ]
        }
      ],
      "source": [
        "print(2*8)"
      ]
    },
    {
      "cell_type": "code",
      "source": [
        "age = 10 #年齢\n",
        "if age < 20: #未成年の場合\n",
        "  print(\"ジュースで乾杯！\")\n",
        "else:\n",
        "  #青年の場合\n",
        "  print(\"お酒で乾杯！\")"
      ],
      "metadata": {
        "colab": {
          "base_uri": "https://localhost:8080/"
        },
        "id": "E4Fa-sY4WYlO",
        "outputId": "3a3a48ea-8e7b-4272-d63d-6aad98a396eb"
      },
      "execution_count": 14,
      "outputs": [
        {
          "output_type": "stream",
          "name": "stdout",
          "text": [
            "ジュースで乾杯！\n"
          ]
        }
      ]
    },
    {
      "cell_type": "code",
      "source": [
        "print(45+18)\n",
        "print(30-12)\n",
        "print(15*6)\n",
        "print(30/3)\n",
        "print(45%6\n",
        "      )"
      ],
      "metadata": {
        "colab": {
          "base_uri": "https://localhost:8080/"
        },
        "id": "pOmWqcEHbqun",
        "outputId": "49a4ce88-9b78-42af-d183-2712272e83ab"
      },
      "execution_count": 15,
      "outputs": [
        {
          "output_type": "stream",
          "name": "stdout",
          "text": [
            "63\n",
            "18\n",
            "90\n",
            "10.0\n",
            "3\n"
          ]
        }
      ]
    },
    {
      "cell_type": "code",
      "source": [
        "print(45+1.8)\n",
        "print(3-1.2)\n",
        "print(15*.6)\n",
        "print(3/.3)\n",
        "print(45%.8)"
      ],
      "metadata": {
        "colab": {
          "base_uri": "https://localhost:8080/"
        },
        "id": "K8or4tnlcZpq",
        "outputId": "fc4ae927-b4ea-43c3-86ed-826ce8cc53f9"
      },
      "execution_count": 16,
      "outputs": [
        {
          "output_type": "stream",
          "name": "stdout",
          "text": [
            "46.8\n",
            "1.8\n",
            "9.0\n",
            "10.0\n",
            "0.1999999999999975\n"
          ]
        }
      ]
    },
    {
      "cell_type": "code",
      "source": [
        "print('今日の天気は'+'晴れ')\n",
        "print(\"降水確率50%\")\n",
        "print(\"kousuikakuritu\"+str(50)+\"%\")\n",
        "print(\"hare\"*5)"
      ],
      "metadata": {
        "colab": {
          "base_uri": "https://localhost:8080/"
        },
        "id": "paRCWfU3fh5I",
        "outputId": "ba89756b-aaab-4df7-dd84-3247c7b327aa"
      },
      "execution_count": 19,
      "outputs": [
        {
          "output_type": "stream",
          "name": "stdout",
          "text": [
            "今日の天気は晴れ\n",
            "降水確率50%\n",
            "kousuikakuritu50%\n",
            "hareharehareharehare\n"
          ]
        }
      ]
    },
    {
      "cell_type": "code",
      "source": [
        "user_name=\"侍太郎\"\n",
        "print(user_name)\n",
        "\n",
        "user_name=\"samurai hanako\"\n",
        "print(user_name)"
      ],
      "metadata": {
        "colab": {
          "base_uri": "https://localhost:8080/"
        },
        "id": "iVkwR7szhYIj",
        "outputId": "bd51926f-7cc0-4c20-eb61-03bf15a82162"
      },
      "execution_count": 21,
      "outputs": [
        {
          "output_type": "stream",
          "name": "stdout",
          "text": [
            "侍太郎\n",
            "samurai hanako\n"
          ]
        }
      ]
    },
    {
      "cell_type": "code",
      "source": [
        "#tasizan\n",
        "n1=8\n",
        "n2=6.3\n",
        "print(n1+n2)\n",
        "\n",
        "ln=\"samurai\"\n",
        "fn=\" tarou\"\n",
        "print(ln+fn)"
      ],
      "metadata": {
        "colab": {
          "base_uri": "https://localhost:8080/"
        },
        "id": "TqDLMEi1jaT3",
        "outputId": "fafdc703-7340-4c3a-b4e0-309b6a3353f4"
      },
      "execution_count": 23,
      "outputs": [
        {
          "output_type": "stream",
          "name": "stdout",
          "text": [
            "14.3\n",
            "samurai tarou\n"
          ]
        }
      ]
    },
    {
      "cell_type": "code",
      "source": [
        "ln=\"samurai\"\n",
        "fn=\"tarou\"\n",
        "sn=\"hanako\"\n",
        "ln=\"bokuha\"\n",
        "print(\"my name is \"+ln+\" \"+fn+\" and sister name is \"+sn)\n",
        "ln=\"kinoshita\"\n",
        "print(f\"my name is {ln} {fn} and sister name is {sn}\")"
      ],
      "metadata": {
        "colab": {
          "base_uri": "https://localhost:8080/"
        },
        "id": "8lQiJ__Ckkyo",
        "outputId": "22e23b93-249c-45ae-9abd-562bd00ec7f1"
      },
      "execution_count": 41,
      "outputs": [
        {
          "output_type": "stream",
          "name": "stdout",
          "text": [
            "my name is bokuha tarou and sister name is hanako\n",
            "my name is kinoshita tarou and sister name is hanako\n"
          ]
        }
      ]
    },
    {
      "cell_type": "code",
      "source": [
        "print(str((10+20)*5/2)+\"cm²\")\n",
        "print(f\"{(10+20)/2*5}cm2\")"
      ],
      "metadata": {
        "colab": {
          "base_uri": "https://localhost:8080/"
        },
        "id": "EQyIEFiaJAJ2",
        "outputId": "a696700d-179b-4564-da38-45531bae6a43"
      },
      "execution_count": 11,
      "outputs": [
        {
          "output_type": "stream",
          "name": "stdout",
          "text": [
            "75.0cm2\n"
          ]
        }
      ]
    },
    {
      "cell_type": "code",
      "source": [
        "#（上底+下底）÷2×高さ＝台形の面積\n",
        "u=20 #cm(上底)\n",
        "l=10 #cm(下底)\n",
        "h=5 #cm(高さ)\n",
        "\n",
        "#答え\n",
        "print(str((u+l)/2*h)+\"cm2\")"
      ],
      "metadata": {
        "colab": {
          "base_uri": "https://localhost:8080/"
        },
        "id": "wdksnY2BPo5K",
        "outputId": "5288a149-fdb6-4c3d-a71b-782116a4e5ff"
      },
      "execution_count": 13,
      "outputs": [
        {
          "output_type": "stream",
          "name": "stdout",
          "text": [
            "75.0cm2\n"
          ]
        }
      ]
    }
  ]
}