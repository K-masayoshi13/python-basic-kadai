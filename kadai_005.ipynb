{
  "nbformat": 4,
  "nbformat_minor": 0,
  "metadata": {
    "colab": {
      "provenance": [],
      "authorship_tag": "ABX9TyOnuJuX+nQF8DATe/o4XVhP",
      "include_colab_link": true
    },
    "kernelspec": {
      "name": "python3",
      "display_name": "Python 3"
    },
    "language_info": {
      "name": "python"
    }
  },
  "cells": [
    {
      "cell_type": "markdown",
      "metadata": {
        "id": "view-in-github",
        "colab_type": "text"
      },
      "source": [
        "<a href=\"https://colab.research.google.com/github/K-masayoshi13/python-basic-kadai/blob/main/kadai_005.ipynb\" target=\"_parent\"><img src=\"https://colab.research.google.com/assets/colab-badge.svg\" alt=\"Open In Colab\"/></a>"
      ]
    },
    {
      "cell_type": "code",
      "execution_count": 7,
      "metadata": {
        "colab": {
          "base_uri": "https://localhost:8080/"
        },
        "id": "DESnm9cHWQdj",
        "outputId": "11d29113-c444-47ed-a035-487b799a6b9a"
      },
      "outputs": [
        {
          "output_type": "stream",
          "name": "stdout",
          "text": [
            "75.0cm2\n"
          ]
        }
      ],
      "source": [
        "#（上底+下底）÷2×高さ＝台形の面積\n",
        "u=20 #cm(上底)\n",
        "l=10 #cm(下底)\n",
        "h=5 #cm(高さ)\n",
        "\n",
        "#台形の面積の計算結果の変数\n",
        "area=(u+l)/2*h\n",
        "\n",
        "print(str(area)+\"cm2\")\n",
        "\n"
      ]
    }
  ]
}