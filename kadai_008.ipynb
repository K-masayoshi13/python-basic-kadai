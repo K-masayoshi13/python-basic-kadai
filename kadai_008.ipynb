{
  "nbformat": 4,
  "nbformat_minor": 0,
  "metadata": {
    "colab": {
      "provenance": [],
      "authorship_tag": "ABX9TyNC5EpgmMQHodcVyuZNk5cR",
      "include_colab_link": true
    },
    "kernelspec": {
      "name": "python3",
      "display_name": "Python 3"
    },
    "language_info": {
      "name": "python"
    }
  },
  "cells": [
    {
      "cell_type": "markdown",
      "metadata": {
        "id": "view-in-github",
        "colab_type": "text"
      },
      "source": [
        "<a href=\"https://colab.research.google.com/github/K-masayoshi13/python-basic-kadai/blob/main/kadai_008.ipynb\" target=\"_parent\"><img src=\"https://colab.research.google.com/assets/colab-badge.svg\" alt=\"Open In Colab\"/></a>"
      ]
    },
    {
      "cell_type": "code",
      "execution_count": 11,
      "metadata": {
        "colab": {
          "base_uri": "https://localhost:8080/"
        },
        "id": "0rl6d1A0WGR7",
        "outputId": "fd4605fa-0ccd-4504-8000-8097ab9c2284"
      },
      "outputs": [
        {
          "output_type": "stream",
          "name": "stdout",
          "text": [
            "wiwiwi\n"
          ]
        }
      ],
      "source": [
        "num=50\n",
        "if 10>num:\n",
        "  print(\"hahaha\")\n",
        "else :\n",
        "  print(\"wiwiwi\")\n"
      ]
    },
    {
      "cell_type": "code",
      "source": [
        "num=50\n",
        "if num!=20:\n",
        "  print(\"tititi\")\n"
      ],
      "metadata": {
        "colab": {
          "base_uri": "https://localhost:8080/"
        },
        "id": "p9FPs4V2YJlY",
        "outputId": "f36f20d8-8341-4cd4-c0b1-627bed5aa70c"
      },
      "execution_count": 20,
      "outputs": [
        {
          "output_type": "stream",
          "name": "stdout",
          "text": [
            "tititi\n"
          ]
        }
      ]
    },
    {
      "cell_type": "code",
      "source": [
        "import random\n",
        "\n",
        "num=random.randint(0,4)\n",
        "\n",
        "print(num)\n",
        "\n",
        "if 3>=num>=1 :\n",
        "  print(\"hahaha\")\n",
        "else :\n",
        "  print(\"wiwiwi\")\n",
        "\n",
        "if num==1 or num==3:\n",
        "  print(\"dedede\")\n",
        "else:\n",
        "  print(\"momomo\")"
      ],
      "metadata": {
        "colab": {
          "base_uri": "https://localhost:8080/"
        },
        "id": "pwUjzduFZVU1",
        "outputId": "6edc7c48-2829-4fdf-f5fc-9ff64b04da29"
      },
      "execution_count": 79,
      "outputs": [
        {
          "output_type": "stream",
          "name": "stdout",
          "text": [
            "3\n",
            "hahaha\n",
            "dedede\n"
          ]
        }
      ]
    },
    {
      "cell_type": "code",
      "source": [
        "import random\n",
        "var=random.randint(1,15)\n",
        "print(var)\n",
        "\n",
        "if var%3==0 and var%5==0:\n",
        "  print(\"FizzBuzz\")\n",
        "elif var%5==0:\n",
        "  print(\"Buzz\")\n",
        "elif var%3==0:\n",
        "  print(\"Fizz\")\n"
      ],
      "metadata": {
        "colab": {
          "base_uri": "https://localhost:8080/"
        },
        "id": "WpIoTejvc44z",
        "outputId": "ae9f744a-d4a6-43db-c563-458f30f00dfa"
      },
      "execution_count": 171,
      "outputs": [
        {
          "output_type": "stream",
          "name": "stdout",
          "text": [
            "4\n"
          ]
        }
      ]
    },
    {
      "cell_type": "code",
      "source": [],
      "metadata": {
        "id": "aoM_Wj0ChZRk"
      },
      "execution_count": null,
      "outputs": []
    },
    {
      "cell_type": "code",
      "source": [
        "import random\n",
        "var=random.randint(1,15)\n",
        "\n",
        "if var%3==0 and var%5==0:\n",
        "  print(\"FizzBuzz\")\n",
        "elif var%5==0:\n",
        "  print(\"Buzz\")\n",
        "elif var%3==0:\n",
        "  print(\"Fizz\")\n",
        "else:\n",
        "  print(var)"
      ],
      "metadata": {
        "colab": {
          "base_uri": "https://localhost:8080/"
        },
        "outputId": "cb940091-b091-4cb9-b1dc-13d26370f54a",
        "id": "DcqCDb5nhZzb"
      },
      "execution_count": 189,
      "outputs": [
        {
          "output_type": "stream",
          "name": "stdout",
          "text": [
            "Fizz\n"
          ]
        }
      ]
    }
  ]
}