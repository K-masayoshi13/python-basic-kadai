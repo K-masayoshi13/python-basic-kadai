{
  "nbformat": 4,
  "nbformat_minor": 0,
  "metadata": {
    "colab": {
      "provenance": [],
      "authorship_tag": "ABX9TyNzXTz/azCEA1k7ZKA6Vd0Y",
      "include_colab_link": true
    },
    "kernelspec": {
      "name": "python3",
      "display_name": "Python 3"
    },
    "language_info": {
      "name": "python"
    }
  },
  "cells": [
    {
      "cell_type": "markdown",
      "metadata": {
        "id": "view-in-github",
        "colab_type": "text"
      },
      "source": [
        "<a href=\"https://colab.research.google.com/github/K-masayoshi13/python-basic-kadai/blob/main/kadai_007.ipynb\" target=\"_parent\"><img src=\"https://colab.research.google.com/assets/colab-badge.svg\" alt=\"Open In Colab\"/></a>"
      ]
    },
    {
      "cell_type": "code",
      "execution_count": 3,
      "metadata": {
        "colab": {
          "base_uri": "https://localhost:8080/"
        },
        "id": "FXLNyMPtd0Kb",
        "outputId": "0d3a316d-74d5-4129-8047-92be13e557da"
      },
      "outputs": [
        {
          "output_type": "stream",
          "name": "stdout",
          "text": [
            "Wedneysday is sunny\n",
            "sunny\n"
          ]
        }
      ],
      "source": [
        "array=[\"Monday is sunny\",\"Tuesday is rainy\",\"Wedneysday is sunny\",\"Thursday is sunny\",\"Friday is cloudy\",\"Saturday is cloudy with rainy\",\"Sunday is thunderstorm\"]\n",
        "dictionary={\"mon\":\"sunny\",\"tue\":\"rainy\",\"wed\":\"sunny\",\"thu\":\"sunny\",\"fri\":\"cloudy\",\"sat\":\"cloudy with rainy\",\"sun\":\"thunderstorm\"}\n",
        "print(array[2])\n",
        "print(dictionary[\"wed\"])"
      ]
    }
  ]
}