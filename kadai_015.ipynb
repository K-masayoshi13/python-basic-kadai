{
  "nbformat": 4,
  "nbformat_minor": 0,
  "metadata": {
    "colab": {
      "provenance": [],
      "authorship_tag": "ABX9TyORNOr9FQahIKtx5V/xWPVC",
      "include_colab_link": true
    },
    "kernelspec": {
      "name": "python3",
      "display_name": "Python 3"
    },
    "language_info": {
      "name": "python"
    }
  },
  "cells": [
    {
      "cell_type": "markdown",
      "metadata": {
        "id": "view-in-github",
        "colab_type": "text"
      },
      "source": [
        "<a href=\"https://colab.research.google.com/github/K-masayoshi13/python-basic-kadai/blob/main/kadai_015.ipynb\" target=\"_parent\"><img src=\"https://colab.research.google.com/assets/colab-badge.svg\" alt=\"Open In Colab\"/></a>"
      ]
    },
    {
      "cell_type": "code",
      "execution_count": 1,
      "metadata": {
        "colab": {
          "base_uri": "https://localhost:8080/"
        },
        "id": "DcJ0TtDqLVzC",
        "outputId": "7937a3e4-89fc-4846-955c-1526a055249f"
      },
      "outputs": [
        {
          "output_type": "stream",
          "name": "stdout",
          "text": [
            "330.0\n"
          ]
        }
      ],
      "source": [
        "price1 = 100 #global\n",
        "price2 = 200 #global\n",
        "tax = 1.1\n",
        "\n",
        "def total():\n",
        "    return price1 + price2\n",
        "\n",
        "print (total() * tax)"
      ]
    },
    {
      "cell_type": "code",
      "source": [
        "class Product:\n",
        "    def __init__(self):\n",
        "        # 属性を定義する\n",
        "        self.name = \"\"\n",
        "\n",
        "shampoo = Product()\n",
        "\n",
        "# 属性にアクセスし、値を代入する\n",
        "shampoo.name = \"シャンプー\"\n",
        "\n",
        "# 属性にアクセスし、値を出力する\n",
        "print(shampoo.name)"
      ],
      "metadata": {
        "colab": {
          "base_uri": "https://localhost:8080/"
        },
        "id": "LYP5VAw_n6WO",
        "outputId": "bd6ff928-4c5e-49a6-fe0c-6602e5be8093"
      },
      "execution_count": 4,
      "outputs": [
        {
          "output_type": "stream",
          "name": "stdout",
          "text": [
            "シャンプー\n"
          ]
        }
      ]
    },
    {
      "cell_type": "code",
      "source": [
        "class Product:\n",
        "    def __init__(self):\n",
        "        self.name = \"\"\n",
        "\n",
        "shampoo=Product()\n",
        "shampoo.name = \"Palmolive\"\n",
        "print(shampoo.name)"
      ],
      "metadata": {
        "colab": {
          "base_uri": "https://localhost:8080/"
        },
        "id": "Pkfj7n5BsBzB",
        "outputId": "744d46ba-9cc5-403e-8710-98c41a89054c"
      },
      "execution_count": 5,
      "outputs": [
        {
          "output_type": "stream",
          "name": "stdout",
          "text": [
            "Palmolive\n"
          ]
        }
      ]
    },
    {
      "cell_type": "code",
      "source": [
        "class Product:\n",
        "  def __init__(self):\n",
        "    self.name=\"\"\n",
        "\n",
        "  def setName(self,name):\n",
        "    self.name=name\n",
        "\n",
        "  def show_name(self):\n",
        "    print(\"Product name is: \",self.name)\n",
        "\n",
        "coffee=Product()\n",
        "\n",
        "coffee.setName(\"coffee\")\n",
        "coffee.show_name()"
      ],
      "metadata": {
        "colab": {
          "base_uri": "https://localhost:8080/"
        },
        "id": "ilqSFDVssL_S",
        "outputId": "71368b84-ece5-4859-f993-bf744249aba4"
      },
      "execution_count": 6,
      "outputs": [
        {
          "output_type": "stream",
          "name": "stdout",
          "text": [
            "Product name is:  coffee\n"
          ]
        }
      ]
    },
    {
      "cell_type": "code",
      "source": [
        "class User:\n",
        "  def __init__(self, name, age, gender):\n",
        "    self.name = name\n",
        "    self.age = age\n",
        "    self.gender = gender\n",
        "\n",
        "user=User(\"侍太郎\",36,\"男\")\n",
        "\n",
        "print(user.name)\n",
        "print(user.age)\n",
        "print(user.gender)"
      ],
      "metadata": {
        "colab": {
          "base_uri": "https://localhost:8080/"
        },
        "id": "dH4jXr9Ytuhh",
        "outputId": "e0e95bd0-d4c8-4f86-8f05-4e5da4257d17"
      },
      "execution_count": 19,
      "outputs": [
        {
          "output_type": "stream",
          "name": "stdout",
          "text": [
            "侍太郎\n",
            "36\n",
            "男\n"
          ]
        }
      ]
    },
    {
      "cell_type": "code",
      "source": [
        "class Event:\n",
        "    def __init__(self, name, date, location):\n",
        "        self.name = name\n",
        "        self.date = date\n",
        "        self.location = location\n",
        "\n",
        "    def days_until(self):\n",
        "        today = datetime.today()\n",
        "        delta = self.date - today\n",
        "        return delta.days\n",
        "\n",
        "event = Event(\"プログラミング初心者向けセミナ－\", \"現在よりも未来の日付\", \"東京国際フォ－ラム\")\n",
        "\n",
        "print(\"イベント名:\", event.name)\n",
        "print(\"開催日:\", event.date)\n",
        "print(\"開催場所:\", event.location)\n",
        "print(\"開催日まであと\", event.days_until(), \"日です！\")\n"
      ],
      "metadata": {
        "colab": {
          "base_uri": "https://localhost:8080/",
          "height": 364
        },
        "id": "xOpXNH7jvgK1",
        "outputId": "9b53b5db-656f-4801-975d-5d83132ab12b"
      },
      "execution_count": 20,
      "outputs": [
        {
          "output_type": "stream",
          "name": "stdout",
          "text": [
            "イベント名: プログラミング初心者向けセミナ－\n",
            "開催日: 現在よりも未来の日付\n",
            "開催場所: 東京国際フォ－ラム\n"
          ]
        },
        {
          "output_type": "error",
          "ename": "NameError",
          "evalue": "name 'datetime' is not defined",
          "traceback": [
            "\u001b[0;31m---------------------------------------------------------------------------\u001b[0m",
            "\u001b[0;31mNameError\u001b[0m                                 Traceback (most recent call last)",
            "\u001b[0;32m/tmp/ipython-input-3469491760.py\u001b[0m in \u001b[0;36m<cell line: 0>\u001b[0;34m()\u001b[0m\n\u001b[1;32m     15\u001b[0m \u001b[0mprint\u001b[0m\u001b[0;34m(\u001b[0m\u001b[0;34m\"開催日:\"\u001b[0m\u001b[0;34m,\u001b[0m \u001b[0mevent\u001b[0m\u001b[0;34m.\u001b[0m\u001b[0mdate\u001b[0m\u001b[0;34m)\u001b[0m\u001b[0;34m\u001b[0m\u001b[0;34m\u001b[0m\u001b[0m\n\u001b[1;32m     16\u001b[0m \u001b[0mprint\u001b[0m\u001b[0;34m(\u001b[0m\u001b[0;34m\"開催場所:\"\u001b[0m\u001b[0;34m,\u001b[0m \u001b[0mevent\u001b[0m\u001b[0;34m.\u001b[0m\u001b[0mlocation\u001b[0m\u001b[0;34m)\u001b[0m\u001b[0;34m\u001b[0m\u001b[0;34m\u001b[0m\u001b[0m\n\u001b[0;32m---> 17\u001b[0;31m \u001b[0mprint\u001b[0m\u001b[0;34m(\u001b[0m\u001b[0;34m\"開催日まであと\"\u001b[0m\u001b[0;34m,\u001b[0m \u001b[0mevent\u001b[0m\u001b[0;34m.\u001b[0m\u001b[0mdays_until\u001b[0m\u001b[0;34m(\u001b[0m\u001b[0;34m)\u001b[0m\u001b[0;34m,\u001b[0m \u001b[0;34m\"日です！\"\u001b[0m\u001b[0;34m)\u001b[0m\u001b[0;34m\u001b[0m\u001b[0;34m\u001b[0m\u001b[0m\n\u001b[0m",
            "\u001b[0;32m/tmp/ipython-input-3469491760.py\u001b[0m in \u001b[0;36mdays_until\u001b[0;34m(self)\u001b[0m\n\u001b[1;32m      6\u001b[0m \u001b[0;34m\u001b[0m\u001b[0m\n\u001b[1;32m      7\u001b[0m     \u001b[0;32mdef\u001b[0m \u001b[0mdays_until\u001b[0m\u001b[0;34m(\u001b[0m\u001b[0mself\u001b[0m\u001b[0;34m)\u001b[0m\u001b[0;34m:\u001b[0m\u001b[0;34m\u001b[0m\u001b[0;34m\u001b[0m\u001b[0m\n\u001b[0;32m----> 8\u001b[0;31m         \u001b[0mtoday\u001b[0m \u001b[0;34m=\u001b[0m \u001b[0mdatetime\u001b[0m\u001b[0;34m.\u001b[0m\u001b[0mtoday\u001b[0m\u001b[0;34m(\u001b[0m\u001b[0;34m)\u001b[0m\u001b[0;34m\u001b[0m\u001b[0;34m\u001b[0m\u001b[0m\n\u001b[0m\u001b[1;32m      9\u001b[0m         \u001b[0mdelta\u001b[0m \u001b[0;34m=\u001b[0m \u001b[0mself\u001b[0m\u001b[0;34m.\u001b[0m\u001b[0mdate\u001b[0m \u001b[0;34m-\u001b[0m \u001b[0mtoday\u001b[0m\u001b[0;34m\u001b[0m\u001b[0;34m\u001b[0m\u001b[0m\n\u001b[1;32m     10\u001b[0m         \u001b[0;32mreturn\u001b[0m \u001b[0mdelta\u001b[0m\u001b[0;34m.\u001b[0m\u001b[0mdays\u001b[0m\u001b[0;34m\u001b[0m\u001b[0;34m\u001b[0m\u001b[0m\n",
            "\u001b[0;31mNameError\u001b[0m: name 'datetime' is not defined"
          ]
        }
      ]
    },
    {
      "cell_type": "code",
      "source": [
        "from datetime import datetime\n",
        "\n",
        "class Event:\n",
        "    def __init__(self, name, date, location):\n",
        "        self.name = name\n",
        "        self.date = datetime.strptime(date, \"%Y-%m-%d\")  # 文字列を日付に変換\n",
        "        self.location = location\n",
        "\n",
        "    # 開催日までの日数を返すメソッド\n",
        "    def days_until(self):\n",
        "        today = datetime.today()\n",
        "        delta = self.date - today\n",
        "        return delta.days\n",
        "\n",
        "# 使用例\n",
        "event = Event(\"プログラミング初心者向けセミナ－\", \"2025-10-16\", \"東京国際フォーラム\")\n",
        "\n",
        "print(\"イベント名:\", event.name)\n",
        "print(\"開催日:\", event.date.date())\n",
        "print(\"場所:\", event.location)\n",
        "print(\"開催日まであと\", event.days_until(), \"日です！\")\n"
      ],
      "metadata": {
        "colab": {
          "base_uri": "https://localhost:8080/"
        },
        "id": "oxhHxbogxkPS",
        "outputId": "0f7eba54-dd87-432c-b0f7-f7d4a6c7b32b"
      },
      "execution_count": 24,
      "outputs": [
        {
          "output_type": "stream",
          "name": "stdout",
          "text": [
            "イベント名: プログラミング初心者向けセミナ－\n",
            "開催日: 2025-10-16\n",
            "場所: 東京国際フォーラム\n",
            "開催日まであと 27 日です！\n"
          ]
        }
      ]
    },
    {
      "cell_type": "code",
      "source": [
        "class Human:\n",
        "  def __init__(self, name, age):\n",
        "    self.name = name\n",
        "    self.age = age\n",
        "\n",
        "  def printinfo(self):\n",
        "    print(\"Name: \", self.name)\n",
        "    print(\"Age: \", self.age)\n",
        "\n",
        "human=Human(\"John\", 25)\n",
        "\n",
        "human.printinfo()"
      ],
      "metadata": {
        "colab": {
          "base_uri": "https://localhost:8080/"
        },
        "id": "Y_8Q0UdC4h9U",
        "outputId": "4d451fe8-132c-4ef8-8b7e-64bb27f398ba"
      },
      "execution_count": 25,
      "outputs": [
        {
          "output_type": "stream",
          "name": "stdout",
          "text": [
            "Name:  John\n",
            "Age:  25\n"
          ]
        }
      ]
    }
  ]
}