{
  "nbformat": 4,
  "nbformat_minor": 0,
  "metadata": {
    "colab": {
      "provenance": [],
      "authorship_tag": "ABX9TyNBVf81VEBIFsEHrubgpXy2",
      "include_colab_link": true
    },
    "kernelspec": {
      "name": "python3",
      "display_name": "Python 3"
    },
    "language_info": {
      "name": "python"
    }
  },
  "cells": [
    {
      "cell_type": "markdown",
      "metadata": {
        "id": "view-in-github",
        "colab_type": "text"
      },
      "source": [
        "<a href=\"https://colab.research.google.com/github/K-masayoshi13/python-basic-kadai/blob/main/kadai_017.ipynb\" target=\"_parent\"><img src=\"https://colab.research.google.com/assets/colab-badge.svg\" alt=\"Open In Colab\"/></a>"
      ]
    },
    {
      "cell_type": "code",
      "source": [
        "!rm /etc/localtime\n",
        "!ln -s /usr/share/zoneinfo/Asia/Tokyo /etc/localtime\n",
        "!date"
      ],
      "metadata": {
        "colab": {
          "base_uri": "https://localhost:8080/"
        },
        "id": "r9glD9NCbmFQ",
        "outputId": "32878a1d-70d8-4683-dd8c-4e233d2f88c6"
      },
      "execution_count": null,
      "outputs": [
        {
          "output_type": "stream",
          "name": "stdout",
          "text": [
            "Fri Sep 19 09:46:25 AM JST 2025\n"
          ]
        }
      ]
    },
    {
      "cell_type": "code",
      "source": [
        "import time\n",
        "print(time.strftime(\"%Y-%m-%d/%H:%M:%S\",time.localtime()))"
      ],
      "metadata": {
        "colab": {
          "base_uri": "https://localhost:8080/"
        },
        "id": "XH0RL2ORcAqo",
        "outputId": "e1b9920f-4a82-423d-8fc0-b0aa2f36df71"
      },
      "execution_count": null,
      "outputs": [
        {
          "output_type": "stream",
          "name": "stdout",
          "text": [
            "2025-09-19/09:49:04\n"
          ]
        }
      ]
    },
    {
      "cell_type": "code",
      "source": [
        "import time\n",
        "print(time.time())"
      ],
      "metadata": {
        "colab": {
          "base_uri": "https://localhost:8080/"
        },
        "id": "IsNHTFsZcjSY",
        "outputId": "639012a5-7fc7-49ac-8c20-2b3bc6f9f3bc"
      },
      "execution_count": null,
      "outputs": [
        {
          "output_type": "stream",
          "name": "stdout",
          "text": [
            "1758242990.8442273\n"
          ]
        }
      ]
    },
    {
      "cell_type": "code",
      "source": [
        "import datetime\n",
        "now=datetime.datetime.now()\n",
        "print(now.strftime(\"%Y-%m-%d %H:%M:%S\"))\n",
        "\n",
        "date_time=datetime.datetime.strptime(\"1985-01-12\",\"%Y-%m-%d\")\n",
        "print(date_time)\n",
        "\n",
        "elapsed=now-date_time\n",
        "print(elapsed.days)"
      ],
      "metadata": {
        "colab": {
          "base_uri": "https://localhost:8080/"
        },
        "id": "S0ByfdiKdduO",
        "outputId": "1d12673b-ced1-4119-ff5a-b9e7a95dd9d2"
      },
      "execution_count": null,
      "outputs": [
        {
          "output_type": "stream",
          "name": "stdout",
          "text": [
            "2025-09-19 10:03:15\n",
            "1985-01-12 00:00:00\n",
            "14860\n"
          ]
        }
      ]
    },
    {
      "cell_type": "code",
      "source": [
        "# datetimeモジュールをインポート\n",
        "import datetime\n",
        "\n",
        "# 現在時刻を取得する\n",
        "now = datetime.datetime.now()\n",
        "\n",
        "td_1y=datetime.timedelta(days=365)\n",
        "print(now-td_1y)\n",
        "\n",
        "print(now-datetime.timedelta(days=3))"
      ],
      "metadata": {
        "colab": {
          "base_uri": "https://localhost:8080/"
        },
        "id": "0JsIipAlgV8l",
        "outputId": "f352c746-80d1-4fff-a9f1-af7612506ae0"
      },
      "execution_count": null,
      "outputs": [
        {
          "output_type": "stream",
          "name": "stdout",
          "text": [
            "2024-09-19 10:21:34.007857\n",
            "2025-09-16 10:21:34.007857\n"
          ]
        }
      ]
    },
    {
      "cell_type": "code",
      "source": [
        "class Human:\n",
        "  def __init__(self, name, age):\n",
        "    self.name = name\n",
        "    self.age = age\n",
        "\n",
        "  def check_adult(self):\n",
        "    if self.age >= 20:\n",
        "      print(self.name+\"は大人です\")\n",
        "    else:\n",
        "      print(self.name+\"は大人ではありません\")\n",
        "\n",
        "humans=[Human(\"John\",25),Human(\"Tarou\",18),Human(\"Hanako\",48)]\n",
        "\n",
        "for people in humans:\n",
        "  people.check_adult()\n"
      ],
      "metadata": {
        "colab": {
          "base_uri": "https://localhost:8080/"
        },
        "id": "DDED0gtIpZOz",
        "outputId": "a9812f2d-2342-42ab-dfc1-9947ca29c48b"
      },
      "execution_count": 34,
      "outputs": [
        {
          "output_type": "stream",
          "name": "stdout",
          "text": [
            "Johnは大人です\n",
            "Tarouは大人ではありません\n",
            "Hanakoは大人です\n"
          ]
        }
      ]
    }
  ]
}